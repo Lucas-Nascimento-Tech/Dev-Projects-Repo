# __Webscraper to Obtain Article Content__
### __Author__: Lucas Vicente Nascimento
### __Date__: 03/19/2024
### __Introduction__
> The purpose of this project was to practice my data scraping skills and also to integrate the use of other tools and good practices in programming, documentation, and portfolio development and skill progression.

> __Disclaimer 1:__ Due to the requirement that the article could be of my choice, I note that the code developed here was obviously based on the HTML code of this specific URL. Therefore, this code cannot be used with another website.
The article I used for the project is from the financial market news page, InfoMoney.
Here is the URL: [From FAAMG to Seven Wonders or Fantastic Four: are the big techs really that expensive?](https://www.infomoney.com.br/colunistas/convidados/de-faamg-para-sete-maravilhas-ou-quarteto-fantastico-afinal-as-big-techs-estao-mesmo-caras/)

> __Disclaimer 2:__ The names of functions, variables, loops, etc. are in English due to the website where I accepted this challenge. So, I developed the code in English for the evaluators of that language. However, all explanations and comments are beautifully in __Portuguese-BR__. ^^

### __Development Process__
##### 1. __Understanding the expected goal__
Build a simple web scraper that will return the content of a news article when provided a specific URL. Some examples of real products using similar technologies include price tracking websites and SEO audit tools that can extract top search results.

##### 2. __Understanding the requirements__
* Choose a news site. Given a specific URL of an article from the chosen site, return the title and content of the article to the user.
* __For an extra challenge__: Analyze information such as the article's title, update date, and authorship to return them separately to the user.

##### 3. __Choice of tools__
* Python (version: 3.11.8)
    * Requests (to access the page)
    * BeautifulSoup (for parsing the page)
* BeautifulSoup Documentation
* ChatGPT
* Git
* GitHub
* VSCode
* Jupyter Notebook

##### 4. __Definition of a timeline__
> Initially, I set a deadline of 15 days, but in fact, I managed to finish in 3!
